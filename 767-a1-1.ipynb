{
 "cells": [
  {
   "cell_type": "markdown",
   "metadata": {},
   "source": [
    "### A) summarize the main results in the paper;"
   ]
  },
  {
   "cell_type": "markdown",
   "metadata": {},
   "source": [
    "### B) Reproduce the results in Figure 1 in paper"
   ]
  },
  {
   "cell_type": "code",
   "execution_count": null,
   "metadata": {},
   "outputs": [],
   "source": []
  },
  {
   "cell_type": "markdown",
   "metadata": {},
   "source": [
    "### C) Perform the same empirical comparison on the bandit problem provided in the Sutton & Barto book (which we discussed in class). "
   ]
  },
  {
   "cell_type": "code",
   "execution_count": 3,
   "metadata": {},
   "outputs": [],
   "source": [
    "import numpy as np\n",
    "import random\n",
    "import numpy\n",
    "from matplotlib import pyplot\n",
    "import matplotlib.pyplot as plt\n",
    "\n",
    "\n",
    "np.random.seed(1)"
   ]
  },
  {
   "cell_type": "code",
   "execution_count": 4,
   "metadata": {},
   "outputs": [],
   "source": [
    "def softmax(x):\n",
    "    e_x = np.exp(x - np.max(x))\n",
    "    return e_x / e_x.sum()\n",
    "\n",
    "import matplotlib.pyplot as plt\n",
    "\n",
    "def plot_bandits(results):\n",
    "    fig, ax = plt.subplots()\n",
    "    plt.style.use('seaborn-whitegrid')\n",
    "    time_steps = len(np.array(results).T[0])\n",
    "    plt.plot(np.arange(0, time_steps), [ts[0] for ts in results[:time_steps]], color=\"blue\" )\n",
    "    plt.plot(np.arange(0, time_steps), [ts[1] for ts in results[:time_steps]], color=\"green\" )\n",
    "    plt.plot(np.arange(0, time_steps), [ts[2] for ts in results[:time_steps]], color=\"red\" )\n",
    "    plt.plot(np.arange(0, time_steps), [ts[3] for ts in results[:time_steps]], color=\"teal\" )\n",
    "    plt.plot(np.arange(0, time_steps), [ts[4] for ts in results[:time_steps]], color=\"magenta\")\n",
    "    plt.plot(np.arange(0, time_steps), [ts[5] for ts in results[:time_steps]], color=\"yellow\" )\n",
    "    plt.show()\n"
   ]
  },
  {
   "cell_type": "code",
   "execution_count": 52,
   "metadata": {},
   "outputs": [],
   "source": [
    "class NormalBandit:\n",
    "    def __init__(self, mu, sigma):\n",
    "        self.mu = mu\n",
    "        self.sigma = sigma\n",
    "\n",
    "    def reward(self):\n",
    "        return np.random.normal(self.mu, self.sigma, 1)[0]"
   ]
  },
  {
   "cell_type": "code",
   "execution_count": 117,
   "metadata": {},
   "outputs": [],
   "source": [
    "class BanditTrials:\n",
    "    \n",
    "    def __init__(self, bandits, n_trials=10, n_time_steps=100):\n",
    "        self.n_trials = n_trials\n",
    "        self.n_time_steps = n_time_steps\n",
    "        self.total_trial_results = []\n",
    "        self.bandits = bandits\n",
    "        \n",
    "    def run_action_elimination_trials(self):\n",
    "        self.run_trials(ActionEliminationBanditTrial)\n",
    "\n",
    "    def run_ucb_trials(self):\n",
    "        self.run_trials(UCBBanditTrial)\n",
    "\n",
    "        \n",
    "    def run_trials(self, strategy):\n",
    "        self.total_trial_results = []\n",
    "        h1 = self.H1([b.mu for b in self.bandits])\n",
    "        for trial_num in np.arange(0, self.n_trials):\n",
    "            trial = strategy(self.bandits)\n",
    "            trial.run_trial(time_steps=self.n_time_steps)\n",
    "            self.total_trial_results.append(trial.pull_count_per_timestep / h1)\n",
    "            print(\"Trial {} of {} complete\".format(trial_num + 1, self.n_trials), end='\\r')\n",
    "\n",
    "            \n",
    "    \n",
    "    def H1(self, true_means):\n",
    "        \"\"\" Hardness of the Trial\"\"\"\n",
    "        optimal_mean = np.max(true_means)        \n",
    "        delta = optimal_mean - true_means\n",
    "        return np.sum(np.power(delta[1:], -2))\n",
    "\n",
    "    def results_as_probability(self):\n",
    "        return [softmax(result) for result in np.mean(self.total_trial_results, axis=0)]\n"
   ]
  },
  {
   "cell_type": "code",
   "execution_count": 69,
   "metadata": {
    "scrolled": false
   },
   "outputs": [],
   "source": [
    "class ActionEliminationBanditTrial:\n",
    "    def __init__(self, bandits):\n",
    "        \"\"\"\n",
    "        bandit_means\n",
    "            a list of means that will be used to build the bandits\n",
    "        r_k = 1\n",
    "            is the number of samples per epoch for each arm. \n",
    "        \"\"\"\n",
    "        self.bandits = bandits \n",
    "        \n",
    "        self.bandit_count = len(self.bandits)\n",
    "        self.k = self.bandit_count\n",
    "        \n",
    "        bandit_means = [b.mu for b in bandits ]\n",
    "        self.optimal_bandit = np.argmax(bandit_means)\n",
    "        self.rewards_per_arm = [[] for _x in np.arange(0, self.bandit_count)]\n",
    "        self.estimated_action_reward = np.zeros(self.bandit_count)\n",
    "\n",
    "        self.delta = 0.1       \n",
    "        self.active_bandits = np.ones(self.bandit_count)\n",
    "\n",
    "        self.pull_count_per_timestep = []\n",
    "\n",
    "    def empirical_mean(self, bandit_index):\n",
    "        r\"\"\"\n",
    "        Calculate the empirical mean of a given bandit (indexed). When an arm is hasn't been pulled, return -Infinity\n",
    "        \"\"\"\n",
    "        if len(self.rewards_per_arm[bandit_index]) == 0:\n",
    "            return -np.Inf\n",
    "        return np.mean(self.rewards_per_arm[bandit_index])\n",
    "    \n",
    "    def active_bandit_indexes(self):\n",
    "        r\"\"\"\n",
    "        self.active_bandits is |n|. Return only the indexes == 1.\n",
    "        \"\"\"\n",
    "        return np.nonzero(self.active_bandits)[0]\n",
    "    \n",
    "    def estimated_best_bandit_mean(self):\n",
    "        \"\"\" returns a tuple with the best bandit index and the empirical mean\"\"\"\n",
    "        all_empirical_means = [self.empirical_mean(idx) for idx,rewards in enumerate(self.bandits)]\n",
    "        best_arm_index = np.nanargmax(all_empirical_means)\n",
    "        return (best_arm_index, all_empirical_means[best_arm_index])\n",
    "\n",
    "    def arm(self, idx):\n",
    "        return self.bandits[idx]\n",
    "\n",
    "    def pull_arm(self, idx):\n",
    "        return self.arm(idx).reward()\n",
    "    \n",
    "    def drop_arm(self, idx):\n",
    "        self.active_bandits[idx] = 0\n",
    "        \n",
    "    def C_ik(self, bandit_index):\n",
    "        k = len(self.rewards_per_arm[bandit_index])\n",
    "        n = self.bandit_count        \n",
    "        if k == 0:\n",
    "            return 0\n",
    "\n",
    "        A = np.power(np.pi , 2 ) / 3\n",
    "        B = n * np.power(k, 2) / self.delta   \n",
    "        \n",
    "        return np.sqrt( np.log( A * B) / k  )\n",
    "    \n",
    "    def stopping_condition_reached(self):\n",
    "        return len(self.active_bandit_indexes()) == 1\n",
    "            \n",
    "    def run_trial(self, time_steps=500):\n",
    "        current_epoch = 0\n",
    "        for step in np.arange(0,time_steps):\n",
    "            # Stopping Condition\n",
    "            if self.stopping_condition_reached():\n",
    "                mean = self.estimated_best_bandit_mean()\n",
    "                print(\"Stopping. Best Arm: {}. Found in {} time steps\".format(mean[0], step))\n",
    "                print(\"Estimated mean: {}. \".format(mean[1]))\n",
    "                print(\"Empirical mean: {}. \".format(self.arm(self.optimal_bandit).mu))\n",
    "                break\n",
    "            \n",
    "            bandit_index = np.random.choice(self.active_bandit_indexes())\n",
    "            self.rewards_per_arm[bandit_index].append(self.pull_arm(bandit_index))\n",
    "            \n",
    "            reference_arm = self.estimated_best_bandit_mean()\n",
    "            reference_C_t = self.C_ik(reference_arm[0])\n",
    "\n",
    "            for bandit_idx in self.active_bandit_indexes():\n",
    "                candidate_arm_mean = self.empirical_mean(bandit_idx)\n",
    "                candidate_C_t = self.C_ik(bandit_idx)\n",
    "                lhs = reference_arm[1] - reference_C_t\n",
    "                rhs = candidate_arm_mean + candidate_C_t\n",
    "                if lhs >= rhs and rhs > (-np.inf):\n",
    "#                    print(\"Dropping:  {}: {} < {}\".format(bandit_idx, lhs, rhs ))\n",
    "                    self.drop_arm(bandit_idx)\n",
    "\n",
    "            # calculate P(I_t = i)\n",
    "            if current_epoch > 0:\n",
    "                self.pull_count_per_timestep.append([len(self.rewards_per_arm[idx]) for idx, _b in enumerate(self.bandits)])\n",
    "            if step > 0 and step % (self.k - 1) == 0:\n",
    "                current_epoch += 1"
   ]
  },
  {
   "cell_type": "code",
   "execution_count": 105,
   "metadata": {},
   "outputs": [],
   "source": [
    "class UCBBanditTrial:\n",
    "    def __init__(self, bandits):\n",
    "        \"\"\"\n",
    "        bandit_means\n",
    "            a list of means that will be used to build the bandits\n",
    "        \"\"\"\n",
    "        self.bandits = bandits \n",
    "        \n",
    "        self.bandit_count = len(self.bandits)\n",
    "        \n",
    "        bandit_means = [b.mu for b in bandits ]\n",
    "        self.optimal_bandit = np.argmax(bandit_means)\n",
    "        self.rewards_per_arm = [[] for _x in np.arange(0, self.bandit_count)]\n",
    "        self.estimated_action_reward = np.zeros(self.bandit_count)\n",
    "\n",
    "        self.delta = 0.1       \n",
    "        self.pull_count_per_timestep = []\n",
    "\n",
    "    def arm(self, idx):\n",
    "        return self.bandits[idx]\n",
    "\n",
    "    def pull_arm(self, idx):\n",
    "        return self.arm(idx).reward()\n",
    "    \n",
    "    def empirical_mean(self, bandit_index):\n",
    "        r\"\"\"\n",
    "        Calculate the empirical mean of a given bandit (indexed). When an arm is hasn't been pulled, return -Infinity\n",
    "        \"\"\"\n",
    "        if len(self.rewards_per_arm[bandit_index]) == 0:\n",
    "            return -np.Inf\n",
    "        return np.mean(self.rewards_per_arm[bandit_index])\n",
    "    \n",
    "    def all_empirical_means(self):\n",
    "        return [self.empirical_mean(idx) for idx,rewards in enumerate(self.bandits)]\n",
    "    \n",
    "    def estimated_best_bandit_mean(self):\n",
    "        \"\"\" returns a tuple with the best bandit index and the empirical mean\"\"\"\n",
    "        means = self.all_empirical_means()\n",
    "        best_arm_index = np.nanargmax(means)\n",
    "        return (best_arm_index, means[best_arm_index])\n",
    "\n",
    "        \n",
    "    def C_ik(self, bandit_index):\n",
    "        k = len(self.rewards_per_arm[bandit_index])\n",
    "        n = self.bandit_count        \n",
    "        if k == 0:\n",
    "            return 0\n",
    "\n",
    "        A = np.power(np.pi , 2 ) / 3\n",
    "        B = n * np.power(k, 2) / self.delta   \n",
    "        return np.sqrt( np.log( A * B) / k  )\n",
    "    \n",
    "    def stopping_condition_reached(self):\n",
    "        return False\n",
    "    \n",
    "    def print_stopping_condition(self, step):\n",
    "        mean = self.estimated_best_bandit_mean()\n",
    "        print(\"Stopping. Best Arm: {}. Found in {} time steps\".format(mean[0], step))\n",
    "        print(\"Estimated mean: {}. \".format(mean[1]))\n",
    "        print(\"Empirical mean: {}. \".format(self.arm(self.optimal_bandit).mu))\n",
    "        \n",
    "    def run_trial(self, time_steps=500):\n",
    "        for step in np.arange(0,time_steps):\n",
    "            # Stopping Condition\n",
    "            if self.stopping_condition_reached():\n",
    "                self.print_stopping_condition(step)\n",
    "                break\n",
    "\n",
    "            # check to see if we haven't sampled a bandit yet:\n",
    "            unexplored = np.where(np.isinf(self.all_empirical_means()))[0]\n",
    "            if len(unexplored) != 0:\n",
    "                # grab the next one:\n",
    "                bandit_index = unexplored[0]\n",
    "            else:\n",
    "                results = [mean + self.C_ik(idx) for idx,mean in enumerate(self.all_empirical_means())]\n",
    "                bandit_index = np.argmax(results)\n",
    "\n",
    "            self.rewards_per_arm[bandit_index].append(self.pull_arm(bandit_index))\n",
    "            \n",
    "            reference_arm = self.estimated_best_bandit_mean()\n",
    "            reference_C_t = self.C_ik(reference_arm[0])\n",
    "\n",
    "            for bandit_idx,_b in enumerate(self.bandits):\n",
    "                candidate_arm_mean = self.empirical_mean(bandit_idx)\n",
    "                candidate_C_t = self.C_ik(bandit_idx)\n",
    "                lhs = reference_arm[1] - reference_C_t\n",
    "                # TODO second best arm:\n",
    "                rhs = candidate_arm_mean + candidate_C_t\n",
    "\n",
    "            self.pull_count_per_timestep.append([len(self.rewards_per_arm[idx]) for idx, _b in enumerate(self.bandits)])\n",
    "\n",
    "            \n",
    "BANDIT_MEANS = [ 1, 4/5, 3/5, 2/5, 1/5, 0]\n",
    "SIGMA = 1/4\n",
    "\n",
    "#trial = UCBBanditTrial([NormalBandit(mean, SIGMA) for mean in BANDIT_MEANS])\n",
    "#trial.run_trial()"
   ]
  },
  {
   "cell_type": "code",
   "execution_count": 88,
   "metadata": {},
   "outputs": [
    {
     "data": {
      "text/plain": [
       "array([2])"
      ]
     },
     "execution_count": 88,
     "metadata": {},
     "output_type": "execute_result"
    }
   ],
   "source": []
  },
  {
   "cell_type": "code",
   "execution_count": 61,
   "metadata": {},
   "outputs": [],
   "source": [
    "BANDIT_MEANS = [ 1, 4/5, 3/5, 2/5, 1/5, 0]\n",
    "SIGMA = 1/4"
   ]
  },
  {
   "cell_type": "code",
   "execution_count": 119,
   "metadata": {},
   "outputs": [
    {
     "name": "stdout",
     "output_type": "stream",
     "text": [
      "Trial 5 of 5 complete\r"
     ]
    },
    {
     "data": {
      "image/png": "[encoded data removed]",
      "text/plain": [
       "<Figure size 432x288 with 1 Axes>"
      ]
     },
     "metadata": {},
     "output_type": "display_data"
    }
   ],
   "source": [
    "bandits = [NormalBandit(mean, SIGMA) for mean in BANDIT_MEANS]\n",
    "trials = BanditTrials(bandits, n_trials=5, n_time_steps=1000)\n",
    "trials.run_ucb_trials()\n",
    "results = trials.results_as_probability()\n",
    "plot_bandits(results)"
   ]
  },
  {
   "cell_type": "markdown",
   "metadata": {},
   "source": [
    "### D) discuss in a short paragraph a concrete application in which you think regret optimization would be more useful than best arm identification"
   ]
  },
  {
   "cell_type": "code",
   "execution_count": null,
   "metadata": {},
   "outputs": [],
   "source": []
  }
 ],
 "metadata": {
  "kernelspec": {
   "display_name": "Python 3",
   "language": "python",
   "name": "python3"
  },
  "language_info": {
   "codemirror_mode": {
    "name": "ipython",
    "version": 3
   },
   "file_extension": ".py",
   "mimetype": "text/x-python",
   "name": "python",
   "nbconvert_exporter": "python",
   "pygments_lexer": "ipython3",
   "version": "3.6.7"
  }
 },
 "nbformat": 4,
 "nbformat_minor": 2
}
