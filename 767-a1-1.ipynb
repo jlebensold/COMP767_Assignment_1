{
 "cells": [
  {
   "cell_type": "markdown",
   "metadata": {},
   "source": [
    "### A) summarize the main results in the paper;"
   ]
  },
  {
   "cell_type": "markdown",
   "metadata": {},
   "source": [
    "### B) Reproduce the results in Figure 1 in paper"
   ]
  },
  {
   "cell_type": "code",
   "execution_count": null,
   "metadata": {},
   "outputs": [],
   "source": []
  },
  {
   "cell_type": "markdown",
   "metadata": {},
   "source": [
    "### C) Perform the same empirical comparison on the bandit problem provided in the Sutton & Barto book (which we discussed in class). "
   ]
  },
  {
   "cell_type": "code",
   "execution_count": 105,
   "metadata": {},
   "outputs": [],
   "source": [
    "import numpy as np\n",
    "import random\n",
    "import numpy\n",
    "from matplotlib import pyplot\n",
    "import matplotlib.pyplot as plt\n",
    "\n",
    "\n",
    "np.random.seed(1)"
   ]
  },
  {
   "cell_type": "code",
   "execution_count": 3,
   "metadata": {},
   "outputs": [
    {
     "data": {
      "image/png": "[encoded data removed]",
      "text/plain": [
       "<Figure size 432x288 with 1 Axes>"
      ]
     },
     "metadata": {},
     "output_type": "display_data"
    }
   ],
   "source": [
    "#mu = 0.0\n",
    "sigma = 1/4\n",
    "#num_bandits = 10\n",
    "num_samples = 1_000\n",
    "bandit_means = [ 1, 4/5, 3/5, 2/5, 1/5, 0]\n",
    "#bandit_means = np.random.normal(mu, sigma, num_bandits)\n",
    "rewards = [(idx, np.random.normal(bandit_mean, sigma, num_samples)) for idx,bandit_mean in enumerate(bandit_means)]\n",
    "\n",
    "\n",
    "\n",
    "def plot_vertical_gaussian(support, sd=1.0, height=0.3, xpos=0.0, ypos=0.0, ax=None, **kwargs):       \n",
    "    gaussian = np.exp((-support ** 2.0) / (2 * sd ** 2.0))\n",
    "    gaussian /= gaussian.max()\n",
    "    ax.plot((gaussian * height) + xpos, support + ypos, **kwargs)\n",
    "    ax.plot( -(gaussian * height) + xpos, support + ypos, **kwargs)\n",
    "\n",
    "support = np.linspace(-2, 2, 1000)\n",
    "fig, ax = plt.subplots()\n",
    "\n",
    "\n",
    "for (action, distribution) in rewards:\n",
    "    xs = np.zeros(num_samples) + action\n",
    "    ys = distribution\n",
    "    plt.scatter(xs, ys, alpha=0.05)\n",
    "\n",
    "for idx, mu in enumerate(bandit_means):\n",
    "    sigma = 6.0\n",
    "    support = np.linspace(mu - sigma, mu + sigma, 1_000)\n",
    "    plot_vertical_gaussian(support, sd=1., xpos=idx, ypos=mu, ax=ax, linewidth=0.4, color='k')\n",
    "\n",
    "\n",
    "plt.show()"
   ]
  },
  {
   "cell_type": "code",
   "execution_count": 166,
   "metadata": {
    "scrolled": false
   },
   "outputs": [
    {
     "data": {
      "image/png": "[encoded data removed]",
      "text/plain": [
       "<Figure size 432x288 with 1 Axes>"
      ]
     },
     "metadata": {},
     "output_type": "display_data"
    }
   ],
   "source": [
    "def softmax(x):\n",
    "    e_x = np.exp(x - np.max(x))\n",
    "    return e_x / e_x.sum()\n",
    "\n",
    "\n",
    "class NormalBandit:\n",
    "    def __init__(self, mu, sigma):\n",
    "        self.mu = mu\n",
    "        self.sigma = sigma\n",
    "\n",
    "    def reward(self):\n",
    "        return np.random.normal(self.mu, self.sigma, 1)[0]        \n",
    "        \n",
    "class ActionElminiationBanditTrial:\n",
    "    def __init__(self, bandits, r_k=1):\n",
    "        \"\"\"\n",
    "        bandit_means\n",
    "            a list of means that will be used to build the bandits\n",
    "        r_k \n",
    "            is the number of samples per epoch for each arm\n",
    "        \"\"\"\n",
    "        self.bandits = bandits \n",
    "        \n",
    "        self.bandit_count = len(self.bandits)\n",
    "        self.k = self.bandit_count\n",
    "        \n",
    "        self.optimal_bandit = np.argmax(bandit_means)\n",
    "        self.rewards_per_arm = [[] for _x in np.arange(0, self.bandit_count)]\n",
    "        self.estimated_action_reward = np.zeros(self.bandit_count)\n",
    "\n",
    "        self.delta = 0.1       \n",
    "        self.active_bandits = np.ones(self.bandit_count)\n",
    "\n",
    "        #self.confidence_bounds_per_arm = [initial_del for _x in np.arange(0,self.bandit_count)]\n",
    "        self.r_k = r_k\n",
    "        self.H1s = []\n",
    "    \n",
    "    def empirical_mean(self, bandit_index):\n",
    "        r\"\"\"\n",
    "        Calculate the empirical mean of a given bandit (indexed). When an arm is hasn't been pulled, return -Infinity\n",
    "        \"\"\"\n",
    "        if len(self.rewards_per_arm[bandit_index]) == 0:\n",
    "            return -np.Inf\n",
    "        return np.mean(self.rewards_per_arm[bandit_index])\n",
    "    \n",
    "    def active_bandit_indexes(self):\n",
    "        r\"\"\"\n",
    "        self.active_bandits is |n|. Return only the indexes == 1.\n",
    "        \"\"\"\n",
    "        return np.nonzero(self.active_bandits)[0]\n",
    "    \n",
    "    def estimated_best_bandit_mean(self):\n",
    "        \"\"\" returns a tuple with the best bandit index and the empirical mean\"\"\"\n",
    "        all_empirical_means = [self.empirical_mean(idx) for idx,rewards in enumerate(self.bandits)]\n",
    "        best_arm_index = np.nanargmax(all_empirical_means)\n",
    "        return (best_arm_index, all_empirical_means[best_arm_index])\n",
    "        \n",
    "    def pick_arm(self, idx):\n",
    "        return self.bandits[idx]\n",
    "    \n",
    "    def drop_arm(self, idx):\n",
    "        self.active_bandits[idx] = 0\n",
    "        \n",
    "    def C_ik(self, bandit_index):\n",
    "        k = len(self.rewards_per_arm[bandit_index])\n",
    "        delta = self.delta\n",
    "        n = self.bandit_count        \n",
    "        if k == 0:\n",
    "            return 0\n",
    "\n",
    "        A = np.power(np.pi , 2 ) / 3\n",
    "        B = n * np.power(k, 2) / delta   \n",
    "        \n",
    "        return np.sqrt( np.log( A * B) / k  )\n",
    "    \n",
    "    def stopping_condition_reached(self):\n",
    "        return len(self.active_bandit_indexes()) == 1\n",
    "    \n",
    "    def delta_from_best_arm(self, bandit_index):\n",
    "        r\"\"\" \n",
    "        this is the ground truth best arm:\n",
    "        \\delta_i = \\mu_{i_*} - \\mu_i\"\"\"\n",
    "        return self.pick_arm(self.optimal_bandit).mu - self.empirical_mean(bandit_index)\n",
    "    \n",
    "    def H1(self):\n",
    "        deltas = []\n",
    "        for idx, bandit in enumerate(self.bandits):\n",
    "            mean = self.delta_from_best_arm(idx)\n",
    "            if mean == np.inf:\n",
    "                mean = 1/6\n",
    "            else:\n",
    "                result = mean\n",
    "            deltas.append(result)\n",
    "        \n",
    "#        print(deltas)\n",
    "        indexes = [idx for idx, bandit in enumerate(self.bandits) ]#  if idx != self.optimal_bandit]\n",
    "#        print(\"indexes: {}\".format(indexes))\n",
    "        deltas = [np.power(self.delta_from_best_arm(idx), -2) for idx in indexes]\n",
    "        return deltas\n",
    "#        print(\"H1: {}\".format(np.sum(deltas)))\n",
    "    \n",
    "    def run_trial(self, time_steps=80):\n",
    "        \n",
    "        current_epoch = 0\n",
    "        for step in np.arange(0,time_steps):\n",
    "            # Stopping Condition\n",
    "            if self.stopping_condition_reached():\n",
    "                mean = self.estimated_best_bandit_mean()\n",
    "                print(\"Stopping. Best Arm: {}. Found in {} time steps\".format(mean[0], step))\n",
    "                print(\"Estimated mean: {}. \".format(mean[1]))\n",
    "                print(\"Empirical mean: {}. \".format(self.bandits[self.optimal_bandit].mu))\n",
    "                break\n",
    "            \n",
    "            # TODO: not sure if we should randomly pick after the first epoch??\n",
    "            if current_epoch > 0:\n",
    "                bandit_index = np.random.choice(self.active_bandit_indexes())\n",
    "            else:\n",
    "                bandit_index = step % (self.k - 1)\n",
    "\n",
    "            bandit = self.pick_arm(bandit_index)\n",
    "            self.rewards_per_arm[bandit_index].append(bandit.reward())\n",
    "            \n",
    "            reference_arm = self.estimated_best_bandit_mean()\n",
    "            reference_C_t = self.C_ik(reference_arm[0])\n",
    "#            print(reference_arm, reference_C_t)\n",
    "            \n",
    "            for bandit_idx in self.active_bandit_indexes():\n",
    "                candidate_arm_mean = self.empirical_mean(bandit_idx)\n",
    "                candidate_C_t = self.C_ik(bandit_idx)\n",
    "                lhs = reference_arm[1] - reference_C_t\n",
    "                rhs = candidate_arm_mean + candidate_C_t\n",
    "                if lhs >= rhs and rhs > (-np.inf):\n",
    "                    print(\"Dropping:  {}: {} < {}\".format(bandit_idx, lhs, rhs ))\n",
    "                    self.drop_arm(bandit_idx)\n",
    "            \n",
    "            \n",
    "#            print(\"{} - {} \\t\\t\\t ({})\".format(bandit_index, reward, step))\n",
    "#            print(\"C.{}: {}\".format(bandit_index, self.C_ik(bandit_index)))\n",
    "            h1 = self.H1()\n",
    "            self.H1s.append(h1)\n",
    "            #print(\"h1: {}\".format(h1))\n",
    "            if step > 0 and step % (self.k - 1) == 0:\n",
    "                current_epoch += 1\n",
    "\n",
    "#                print(\"epch - {}\".format(current_epoch))\n",
    "    \n",
    "    def pull_arm(idx):\n",
    "        return self.bandits[idx].reward()\n",
    "\n",
    "    \n",
    "bandit_means = [ 1, 4/5, 3/5, 2/5, 1/5, 0]\n",
    "bandits = [NormalBandit(mean, 1/4) for mean in bandit_means]\n",
    "trial = ActionElminiationBanditTrial(bandits)\n",
    "trial.run_trial()\n",
    "\n",
    "\n",
    "#trial.H1s\n",
    "plt.style.use('seaborn-darkgrid')\n",
    "\n",
    "plt.plot(np.arange(0, len(trial.H1s)), [ts[0] for ts in trial.H1s] )\n",
    "plt.plot(np.arange(0, len(trial.H1s)), [ts[1] for ts in trial.H1s] )\n",
    "plt.plot(np.arange(0, len(trial.H1s)), [ts[2] for ts in trial.H1s] )\n",
    "plt.plot(np.arange(0, len(trial.H1s)), [ts[3] for ts in trial.H1s] )\n",
    "plt.plot(np.arange(0, len(trial.H1s)), [ts[4] for ts in trial.H1s] )\n",
    "plt.plot(np.arange(0, len(trial.H1s)), [ts[5] for ts in trial.H1s] )\n",
    "plt.show()"
   ]
  },
  {
   "cell_type": "code",
   "execution_count": 138,
   "metadata": {},
   "outputs": [
    {
     "data": {
      "text/plain": [
       "100"
      ]
     },
     "execution_count": 138,
     "metadata": {},
     "output_type": "execute_result"
    }
   ],
   "source": [
    "len(trial.H1s)"
   ]
  },
  {
   "cell_type": "markdown",
   "metadata": {},
   "source": [
    "### D) discuss in a short paragraph a concrete application in which you think regret optimization would be more useful than best arm identification"
   ]
  },
  {
   "cell_type": "code",
   "execution_count": null,
   "metadata": {},
   "outputs": [],
   "source": []
  }
 ],
 "metadata": {
  "kernelspec": {
   "display_name": "Python 3",
   "language": "python",
   "name": "python3"
  },
  "language_info": {
   "codemirror_mode": {
    "name": "ipython",
    "version": 3
   },
   "file_extension": ".py",
   "mimetype": "text/x-python",
   "name": "python",
   "nbconvert_exporter": "python",
   "pygments_lexer": "ipython3",
   "version": "3.6.7"
  }
 },
 "nbformat": 4,
 "nbformat_minor": 2
}
